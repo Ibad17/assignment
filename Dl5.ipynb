{
  "nbformat": 4,
  "nbformat_minor": 0,
  "metadata": {
    "colab": {
      "provenance": [],
      "authorship_tag": "ABX9TyPfkSfDDQjZzaEPQR3SmJDx",
      "include_colab_link": true
    },
    "kernelspec": {
      "name": "python3",
      "display_name": "Python 3"
    },
    "language_info": {
      "name": "python"
    }
  },
  "cells": [
    {
      "cell_type": "markdown",
      "metadata": {
        "id": "view-in-github",
        "colab_type": "text"
      },
      "source": [
        "<a href=\"https://colab.research.google.com/github/Ibad17/assignment/blob/main/Dl5.ipynb\" target=\"_parent\"><img src=\"https://colab.research.google.com/assets/colab-badge.svg\" alt=\"Open In Colab\"/></a>"
      ]
    },
    {
      "cell_type": "markdown",
      "source": [
        "# New Section"
      ],
      "metadata": {
        "id": "2SeJ-28CnVET"
      }
    },
    {
      "cell_type": "code",
      "source": [
        "import torch\n",
        "import torchvision\n",
        "from torchvision.transforms import functional as F\n",
        "import cv2\n",
        "import numpy as np\n",
        "import argparse\n",
        "from google.colab.patches import cv2_imshow  # Only for Colab\n",
        "\n",
        "# Load the pretrained model\n",
        "model = torchvision.models.detection.fasterrcnn_resnet50_fpn(pretrained=True)\n",
        "model.eval()\n",
        "\n",
        "# COCO category names\n",
        "COCO_INSTANCE_CATEGORY_NAMES = [\n",
        "    '__background__', 'person', 'bicycle', 'car', 'motorcycle',\n",
        "    'airplane', 'bus', 'train', 'truck', 'boat', 'traffic light', 'fire hydrant', 'stop sign', 'parking meter', 'bench',\n",
        "    'bird', 'cat', 'dog', 'lamb', 'sheep', 'cow', 'elephant', 'bear', 'zebra', 'giraffe', 'backpack', 'umbrella',\n",
        "    'handbag', 'tie', 'suitcase', 'frisbee', 'skis', 'snowboard', 'sports ball', 'kite', 'baseball bat', 'baseball glove',\n",
        "    'skateboard', 'surfboard', 'tennis racket', 'bottle', 'wine glass', 'cup', 'fork', 'knife', 'spoon', 'bowl', 'banana',\n",
        "    'apple', 'sandwich', 'orange', 'broccoli', 'carrot', 'hot dog', 'pizza', 'donut', 'cake', 'chair', 'couch', 'potted plant',\n",
        "    'bed', 'dining table', 'toilet', 'tv', 'laptop', 'mouse', 'remote', 'keyboard', 'cell phone', 'microwave', 'oven',\n",
        "    'toaster', 'sink', 'refrigerator', 'book', 'clock', 'vase', 'scissors', 'teddy bear', 'hair drier', 'toothbrush'\n",
        "]\n",
        "\n",
        "def detect_objects(image_path, output_path=None, confidence_threshold=0.5, device='cpu'):\n",
        "    # Load image\n",
        "    image = cv2.imread(image_path)\n",
        "    if image is None:\n",
        "        print(f\"Error: Could not load image from '{image_path}'. Please check the file path and ensure the image exists.\")\n",
        "        return None\n",
        "\n",
        "    # Resize image if too large\n",
        "    max_size = 40\n",
        "    h, w = image.shape[:2]\n",
        "    if max(h, w) > max_size:\n",
        "        scale = max_size / max(h, w)\n",
        "        image = cv2.resize(image, (int(w * scale), int(h * scale)))\n",
        "\n",
        "    # Prepare image tensor\n",
        "    image_tensor = F.to_tensor(image).unsqueeze(0).to(device)\n",
        "\n",
        "    # Perform inference\n",
        "    model.to(device)\n",
        "    with torch.no_grad():\n",
        "        predictions = model(image_tensor)\n",
        "\n",
        "    boxes = predictions[0]['boxes'].cpu().numpy()\n",
        "    labels = predictions[0]['labels'].cpu().numpy()\n",
        "    scores = predictions[0]['scores'].cpu().numpy()\n",
        "\n",
        "    # Draw bounding boxes for high-confidence detections\n",
        "    for i, box in enumerate(boxes):\n",
        "        if scores[i] >= confidence_threshold:\n",
        "            label = COCO_INSTANCE_CATEGORY_NAMES[labels[i]]\n",
        "            score = scores[i]\n",
        "            start_point = (int(box[0]), int(box[1]))\n",
        "            end_point = (int(box[2]), int(box[3]))\n",
        "            cv2.rectangle(image, start_point, end_point, (0, 255, 0), 2)\n",
        "            cv2.putText(image, f\"{label}: {score:.2f}\", start_point, cv2.FONT_HERSHEY_SIMPLEX, 0.5, (255, 0, 0), 2)\n",
        "\n",
        "    # Save or display the image\n",
        "    if output_path:\n",
        "        cv2.imwrite(output_path, image)\n",
        "        print(f\"Output saved to {output_path}\")\n",
        "    else:\n",
        "        # Use cv2.imshow in local environments or cv2_imshow in Colab\n",
        "        try:\n",
        "            cv2_imshow(image)  # For Colab\n",
        "        except ImportError:\n",
        "            cv2.imshow(\"Detected Objects\", image)\n",
        "            cv2.waitKey(0)\n",
        "            cv2.destroyAllWindows()\n",
        "\n",
        "    return image\n",
        "\n",
        "if __name__ == \"__main__\":\n",
        "    # Handle argparse in a Jupyter/Colab safe way\n",
        "    try:\n",
        "        parser = argparse.ArgumentParser(description=\"Object Detection with Faster R-CNN\")\n",
        "        parser.add_argument(\"image_path\", type=str, help=\"Path to the input image.\")\n",
        "        parser.add_argument(\"--output_path\", type=str, default=None, help=\"Path to save the output image.\")\n",
        "        parser.add_argument(\"--confidence\", type=float, default=0.5, help=\"Confidence threshold for object detection.\")\n",
        "        parser.add_argument(\"--use_gpu\", action=\"store_true\", help=\"Use GPU for inference if available.\")\n",
        "        args = parser.parse_args()\n",
        "\n",
        "        device = \"cuda\" if args.use_gpu and torch.cuda.is_available() else \"cpu\"\n",
        "        detect_objects(args.image_path, args.output_path, args.confidence, device)\n",
        "    except SystemExit:\n",
        "        # Use fallback testing for Jupyter/Colab\n",
        "        print(\"Argparse not supported. Running fallback.\")\n",
        "        IMAGE_PATH = \"/dog.jpeg\"  # Replace with your test image path\n",
        "        OUTPUT_PATH = None  # Set to \"output.jpg\" if you want to save\n",
        "        CONFIDENCE_THRESHOLD = 0.5\n",
        "        USE_GPU = True\n",
        "\n",
        "        device = \"cuda\" if USE_GPU and torch.cuda.is_available() else \"cpu\"\n",
        "        detect_objects(IMAGE_PATH, OUTPUT_PATH, CONFIDENCE_THRESHOLD, device)\n"
      ],
      "metadata": {
        "colab": {
          "base_uri": "https://localhost:8080/"
        },
        "id": "5RvK_m-LoThX",
        "outputId": "4f019130-7765-4ab5-85a7-5db29ab95ea0"
      },
      "execution_count": 1,
      "outputs": [
        {
          "output_type": "stream",
          "name": "stderr",
          "text": [
            "/usr/local/lib/python3.10/dist-packages/torchvision/models/_utils.py:208: UserWarning: The parameter 'pretrained' is deprecated since 0.13 and may be removed in the future, please use 'weights' instead.\n",
            "  warnings.warn(\n",
            "/usr/local/lib/python3.10/dist-packages/torchvision/models/_utils.py:223: UserWarning: Arguments other than a weight enum or `None` for 'weights' are deprecated since 0.13 and may be removed in the future. The current behavior is equivalent to passing `weights=FasterRCNN_ResNet50_FPN_Weights.COCO_V1`. You can also use `weights=FasterRCNN_ResNet50_FPN_Weights.DEFAULT` to get the most up-to-date weights.\n",
            "  warnings.warn(msg)\n",
            "Downloading: \"https://download.pytorch.org/models/fasterrcnn_resnet50_fpn_coco-258fb6c6.pth\" to /root/.cache/torch/hub/checkpoints/fasterrcnn_resnet50_fpn_coco-258fb6c6.pth\n",
            "100%|██████████| 160M/160M [00:01<00:00, 126MB/s]\n"
          ]
        },
        {
          "output_type": "stream",
          "name": "stdout",
          "text": [
            "Argparse not supported. Running fallback.\n",
            "Error: Could not load image from '/dog.jpeg'. Please check the file path and ensure the image exists.\n"
          ]
        },
        {
          "output_type": "stream",
          "name": "stderr",
          "text": [
            "usage: colab_kernel_launcher.py [-h] [--output_path OUTPUT_PATH] [--confidence CONFIDENCE]\n",
            "                                [--use_gpu]\n",
            "                                image_path\n",
            "colab_kernel_launcher.py: error: unrecognized arguments: -f\n"
          ]
        }
      ]
    },
    {
      "cell_type": "code",
      "source": [
        "import torch\n",
        "import torchvision\n",
        "from torchvision.transforms import functional as F\n",
        "import cv2\n",
        "import numpy as np\n",
        "import argparse\n",
        "from google.colab.patches import cv2_imshow  # For Colab\n",
        "\n",
        "# Load the pretrained model\n",
        "model = torchvision.models.detection.fasterrcnn_resnet50_fpn(pretrained=True)\n",
        "model.eval()\n",
        "\n",
        "# COCO category names\n",
        "COCO_INSTANCE_CATEGORY_NAMES = [\n",
        "    '__background__', 'person', 'bicycle', 'car', 'motorcycle',\n",
        "    'airplane', 'bus', 'train', 'truck', 'boat', 'traffic light', 'fire hydrant', 'stop sign', 'parking meter', 'bench',\n",
        "    'bird', 'cat', 'dog', 'sheep', 'cow', 'elephant', 'bear', 'zebra', 'giraffe', 'backpack', 'umbrella',\n",
        "    'handbag', 'tie', 'suitcase', 'frisbee', 'skis', 'snowboard', 'sports ball', 'kite', 'baseball bat', 'baseball glove',\n",
        "    'skateboard', 'surfboard', 'tennis racket', 'bottle', 'wine glass', 'cup', 'fork', 'knife', 'spoon', 'bowl', 'banana',\n",
        "    'apple', 'sandwich', 'orange', 'broccoli', 'carrot', 'hot dog', 'pizza', 'donut', 'cake', 'chair', 'couch', 'potted plant',\n",
        "    'bed', 'dining table', 'toilet', 'tv', 'laptop', 'mouse', 'remote', 'keyboard', 'cell phone', 'microwave', 'oven',\n",
        "    'toaster', 'sink', 'refrigerator', 'book', 'clock', 'vase', 'scissors', 'teddy bear', 'hair drier', 'toothbrush'\n",
        "]\n",
        "\n",
        "def detect_objects(image_path, output_path=None, confidence_threshold=0.5, device='cpu'):\n",
        "    # Load the image\n",
        "    image = cv2.imread(image_path)\n",
        "    if image is None:\n",
        "        print(f\"Error: Could not load image from '{image_path}'. Please check the file path and ensure the image exists.\")\n",
        "        return None\n",
        "\n",
        "    # Resize the image if too large\n",
        "    max_size = 40 # Keep this realistic\n",
        "    h, w = image.shape[:2]\n",
        "    if max(h, w) > max_size:\n",
        "        scale = max_size / max(h, w)\n",
        "        image = cv2.resize(image, (int(w * scale), int(h * scale)))\n",
        "\n",
        "    # Prepare the image tensor\n",
        "    image_tensor = F.to_tensor(image).unsqueeze(0).to(device)\n",
        "\n",
        "    # Perform inference\n",
        "    model.to(device)\n",
        "    with torch.no_grad():\n",
        "        predictions = model(image_tensor)\n",
        "\n",
        "    boxes = predictions[0]['boxes'].cpu().numpy()\n",
        "    labels = predictions[0]['labels'].cpu().numpy()\n",
        "    scores = predictions[0]['scores'].cpu().numpy()\n",
        "\n",
        "    # Draw bounding boxes for high-confidence detections\n",
        "    for i, box in enumerate(boxes):\n",
        "        if scores[i] >= confidence_threshold:\n",
        "            label = COCO_INSTANCE_CATEGORY_NAMES[labels[i]]\n",
        "            score = scores[i]\n",
        "            start_point = (int(box[0]), int(box[1]))\n",
        "            end_point = (int(box[2]), int(box[3]))\n",
        "            cv2.rectangle(image, start_point, end_point, (0, 255, 0), 2)\n",
        "            cv2.putText(image, f\"{label}: {score:.2f}\", (start_point[0], start_point[1] - 10),\n",
        "                        cv2.FONT_HERSHEY_SIMPLEX, 0.5, (255, 0, 0), 2)\n",
        "\n",
        "    # Save or display the image\n",
        "    if output_path:\n",
        "        cv2.imwrite(output_path, image)\n",
        "        print(f\"Output saved to {output_path}\")\n",
        "    else:\n",
        "        # Use cv2.imshow for local environments or cv2_imshow for Colab\n",
        "        try:\n",
        "            cv2_imshow(image)  # For Colab\n",
        "        except ImportError:\n",
        "            cv2.imshow(\"Detected Objects\", image)\n",
        "            cv2.waitKey(0)\n",
        "            cv2.destroyAllWindows()\n",
        "\n",
        "    return image\n",
        "\n",
        "if __name__ == \"__main__\":\n",
        "    try:\n",
        "        parser = argparse.ArgumentParser(description=\"Object Detection with Faster R-CNN\")\n",
        "        parser.add_argument(\"image_path\", type=str, help=\"Path to the input image.\")\n",
        "        parser.add_argument(\"--output_path\", type=str, default=None, help=\"Path to save the output image.\")\n",
        "        parser.add_argument(\"--confidence\", type=float, default=0.5, help=\"Confidence threshold for object detection.\")\n",
        "        parser.add_argument(\"--use_gpu\", action=\"store_true\", help=\"Use GPU for inference if available.\")\n",
        "        args = parser.parse_args()\n",
        "\n",
        "        device = \"cuda\" if args.use_gpu and torch.cuda.is_available() else \"cpu\"\n",
        "        detect_objects(args.image_path, args.output_path, args.confidence, device)\n",
        "    except SystemExit:\n",
        "        # Handle Jupyter/Colab fallback\n",
        "        print(\"Argparse not supported in this environment. Running fallback.\")\n",
        "        IMAGE_PATH = \"traffic.jpeg\"  # Replace with your test image path\n",
        "        OUTPUT_PATH = None  # Set to \"output.jpg\" if you want to save the result\n",
        "        CONFIDENCE_THRESHOLD = 0.5\n",
        "        USE_GPU = True\n",
        "\n",
        "        device = \"cuda\" if USE_GPU and torch.cuda.is_available() else \"cpu\"\n",
        "        detect_objects(IMAGE_PATH, OUTPUT_PATH, CONFIDENCE_THRESHOLD, device)\n"
      ],
      "metadata": {
        "id": "XFwVEiU_o5W8",
        "colab": {
          "base_uri": "https://localhost:8080/",
          "height": 144
        },
        "outputId": "6e6774c1-ccf8-4e77-d289-e04234d0954d"
      },
      "execution_count": 5,
      "outputs": [
        {
          "output_type": "stream",
          "name": "stderr",
          "text": [
            "usage: colab_kernel_launcher.py [-h] [--output_path OUTPUT_PATH] [--confidence CONFIDENCE]\n",
            "                                [--use_gpu]\n",
            "                                image_path\n",
            "colab_kernel_launcher.py: error: unrecognized arguments: -f\n"
          ]
        },
        {
          "output_type": "stream",
          "name": "stdout",
          "text": [
            "Argparse not supported in this environment. Running fallback.\n"
          ]
        },
        {
          "output_type": "display_data",
          "data": {
            "text/plain": [
              "<PIL.Image.Image image mode=RGB size=37x40>"
            ],
            "image/png": "[encoded data removed]",
            "image/jpeg": "[encoded data removed]"
          },
          "metadata": {}
        }
      ]
    }
  ]
}